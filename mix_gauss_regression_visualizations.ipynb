{
 "cells": [
  {
   "cell_type": "code",
   "execution_count": 1,
   "metadata": {},
   "outputs": [],
   "source": [
    "import warnings;\n",
    "warnings.filterwarnings('ignore');"
   ]
  },
  {
   "cell_type": "code",
   "execution_count": 2,
   "metadata": {},
   "outputs": [
    {
     "data": {
      "text/plain": [
       "<module 'my_utils.modeler' from '/workspaces/Thesis/Gaze_4_behavioural_biometrics/my_utils/modeler.py'>"
      ]
     },
     "execution_count": 2,
     "metadata": {},
     "output_type": "execute_result"
    }
   ],
   "source": [
    "import pandas as pd\n",
    "import os\n",
    "import pymc3 as pm\n",
    "import arviz as az\n",
    "from theano import tensor as T\n",
    "from sklearn.metrics import mean_squared_error\n",
    "import numpy as np\n",
    "from my_utils import modeler\n",
    "import importlib\n",
    "importlib.reload(modeler)"
   ]
  },
  {
   "cell_type": "code",
   "execution_count": 3,
   "metadata": {},
   "outputs": [],
   "source": [
    "AGGREGATED_PATH = \"output/aggregated_features/\""
   ]
  },
  {
   "attachments": {},
   "cell_type": "markdown",
   "metadata": {},
   "source": [
    "## __Free viewing__"
   ]
  },
  {
   "attachments": {},
   "cell_type": "markdown",
   "metadata": {},
   "source": [
    "### __General empathy__"
   ]
  },
  {
   "attachments": {},
   "cell_type": "markdown",
   "metadata": {},
   "source": [
    "#### __Fixations__"
   ]
  },
  {
   "cell_type": "code",
   "execution_count": 4,
   "metadata": {},
   "outputs": [
    {
     "data": {
      "image/png": "[encoded data removed]",
      "text/plain": [
       "<Figure size 640x480 with 1 Axes>"
      ]
     },
     "metadata": {},
     "output_type": "display_data"
    }
   ],
   "source": [
    "quest_before = pd.read_csv(\"datasets/EyeT/Questionnaire_datasetIA.csv\")\n",
    "quest_before.index.name = \"Participant\"\n",
    "free_viewing_empathy = quest_before[quest_before.index%2 == 0][\"Total Score original\"]\n",
    "free_viewing_empathy.hist();"
   ]
  },
  {
   "cell_type": "code",
   "execution_count": 5,
   "metadata": {},
   "outputs": [],
   "source": [
    "free_fix_features_train, free_fix_labels_train, free_sac_features_train, free_sac_labels_train =  modeler.get_features(AGGREGATED_PATH, \"train\", \"free\")"
   ]
  },
  {
   "cell_type": "code",
   "execution_count": null,
   "metadata": {},
   "outputs": [],
   "source": [
    "n_components = 2\n",
    "\n",
    "with pm.Model() as free_fix_empathy:\n",
    "    X = pm.Data(\"x\", free_fix_features_train)\n",
    "    y = pm.Data(\"y\", free_fix_labels_train)\n",
    "\n",
    "    a1 = pm.Normal(\"a1\", mu=90, sigma=10)\n",
    "    b1 = pm.Normal(\"b1\", mu=0, sigma=10, shape = X.eval().shape[1])\n",
    "    σ1 = pm.HalfNormal(\"σ1\", sigma=1, shape = X.eval().shape[0])\n",
    "    μ1 = pm.Normal(\"μ1\", mu = a1 + T.dot(X, b1.T), sigma=σ1, shape = X.eval().shape[0])\n",
    "\n",
    "    a2 = pm.Normal(\"a2\", mu=105, sigma=10)\n",
    "    b2 = pm.Normal(\"b2\", mu=0, sigma=10, shape = X.eval().shape[1])\n",
    "    σ2 = pm.HalfNormal(\"σ2\", sigma=1, shape = X.eval().shape[0])\n",
    "    μ2 = pm.Normal(\"μ2\", mu = a1 + T.dot(X, b1.T), sigma=σ2, shape = X.eval().shape[0])\n",
    "\n",
    " \n",
    "    μ = T.stack([μ1, μ2]).T\n",
    "    σ = T.stack([σ1, σ2]).T\n",
    "    \n",
    "    weights = pm.Dirichlet(\"w\", np.ones((X.eval().shape[0],n_components)), shape = (X.eval().shape[0],n_components))\n",
    "\n",
    "    likelihood = pm.NormalMixture('likelihood', weights, μ,  σ, observed=y, shape=X.eval().shape[0])\n",
    "\n",
    "    free_fix_empathy_trace = pm.sample(4000, tune=2000)\n"
   ]
  },
  {
   "cell_type": "code",
   "execution_count": null,
   "metadata": {},
   "outputs": [],
   "source": [
    "pm.model_graph.model_to_graphviz(free_fix_empathy)"
   ]
  },
  {
   "cell_type": "code",
   "execution_count": null,
   "metadata": {},
   "outputs": [],
   "source": [
    "az.summary(free_fix_empathy_trace, round_to=2)"
   ]
  },
  {
   "cell_type": "code",
   "execution_count": null,
   "metadata": {},
   "outputs": [],
   "source": [
    "trace = az.plot_trace(free_fix_empathy_trace)"
   ]
  },
  {
   "cell_type": "code",
   "execution_count": null,
   "metadata": {},
   "outputs": [],
   "source": [
    "az.plot_autocorr(free_fix_empathy_trace, combined=True);"
   ]
  },
  {
   "cell_type": "code",
   "execution_count": null,
   "metadata": {},
   "outputs": [
    {
     "data": {
      "text/html": [
       "\n",
       "    <div>\n",
       "        <style>\n",
       "            /* Turns off some styling */\n",
       "            progress {\n",
       "                /* gets rid of default border in Firefox and Opera. */\n",
       "                border: none;\n",
       "                /* Needs to be in here for Safari polyfill so background images work as expected. */\n",
       "                background-size: auto;\n",
       "            }\n",
       "            .progress-bar-interrupted, .progress-bar-interrupted::-webkit-progress-bar {\n",
       "                background: #F44336;\n",
       "            }\n",
       "        </style>\n",
       "      <progress value='16000' class='' max='16000' style='width:300px; height:20px; vertical-align: middle;'></progress>\n",
       "      100.00% [16000/16000 04:37<00:00]\n",
       "    </div>\n",
       "    "
      ],
      "text/plain": [
       "<IPython.core.display.HTML object>"
      ]
     },
     "metadata": {},
     "output_type": "display_data"
    }
   ],
   "source": [
    "with free_fix_empathy:\n",
    "    fix_free_ppc = pm.sample_posterior_predictive(free_fix_empathy_trace)\n",
    "    fix_free_ppc_data = az.from_pymc3(model=free_fix_empathy, posterior_predictive=fix_free_ppc) \n",
    "    \n",
    "fix_free_sampled_labels = fix_free_ppc_data.posterior_predictive['empathy'].to_numpy().mean(axis=(0,1))"
   ]
  },
  {
   "cell_type": "code",
   "execution_count": null,
   "metadata": {},
   "outputs": [],
   "source": [
    "az.plot_ppc(fix_free_ppc_data);"
   ]
  },
  {
   "cell_type": "code",
   "execution_count": null,
   "metadata": {},
   "outputs": [
    {
     "data": {
      "text/plain": [
       "8.002481656193247"
      ]
     },
     "execution_count": 35,
     "metadata": {},
     "output_type": "execute_result"
    }
   ],
   "source": [
    "mean_squared_error(free_fix_labels_train, fix_free_sampled_labels, squared= False)"
   ]
  }
 ],
 "metadata": {
  "kernelspec": {
   "display_name": "gazeID",
   "language": "python",
   "name": "python3"
  },
  "language_info": {
   "codemirror_mode": {
    "name": "ipython",
    "version": 3
   },
   "file_extension": ".py",
   "mimetype": "text/x-python",
   "name": "python",
   "nbconvert_exporter": "python",
   "pygments_lexer": "ipython3",
   "version": "3.10.8"
  },
  "orig_nbformat": 4,
  "vscode": {
   "interpreter": {
    "hash": "bb343a99f230d15a11481f9d98be0f292b39d235dce9bfc09ddfaabc097ae881"
   }
  }
 },
 "nbformat": 4,
 "nbformat_minor": 2
}
